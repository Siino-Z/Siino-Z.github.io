{
 "cells": [
  {
   "cell_type": "code",
   "execution_count": 1,
   "metadata": {},
   "outputs": [],
   "source": [
    "import pandas as pd\n",
    "import numpy as np"
   ]
  },
  {
   "cell_type": "markdown",
   "metadata": {},
   "source": [
    "### **Dataset Overview**\n",
    "- **Total Entries**: 100,000 transactions\n",
    "- **Columns**:\n",
    "  - `TransactionID` (int): Unique identifier for each transaction\n",
    "  - `TransactionDate` (object): Timestamp of the transaction\n",
    "  - `Amount` (float): Transaction amount\n",
    "  - `MerchantID` (int): ID of the merchant\n",
    "  - `TransactionType` (object): Type of transaction (e.g., purchase, refund)\n",
    "  - `Location` (object): Location where the transaction occurred\n",
    "  - `IsFraud` (int): **Target variable** (0 = legitimate, 1 = fraud)\n",
    "\n",
    "let's proceed! 🚀"
   ]
  },
  {
   "cell_type": "code",
   "execution_count": null,
   "metadata": {},
   "outputs": [],
   "source": [
    "# Load data from a CSV file\n",
    "data = pd.read_csv('credit_card_fraud_dataset.csv')\n"
   ]
  },
  {
   "cell_type": "markdown",
   "metadata": {},
   "source": [
    "#### Check for Missing Values & Data Distribution"
   ]
  },
  {
   "cell_type": "code",
   "execution_count": 5,
   "metadata": {},
   "outputs": [
    {
     "name": "stdout",
     "output_type": "stream",
     "text": [
      "<class 'pandas.core.frame.DataFrame'>\n",
      "RangeIndex: 100000 entries, 0 to 99999\n",
      "Data columns (total 7 columns):\n",
      " #   Column           Non-Null Count   Dtype  \n",
      "---  ------           --------------   -----  \n",
      " 0   TransactionID    100000 non-null  int64  \n",
      " 1   TransactionDate  100000 non-null  object \n",
      " 2   Amount           100000 non-null  float64\n",
      " 3   MerchantID       100000 non-null  int64  \n",
      " 4   TransactionType  100000 non-null  object \n",
      " 5   Location         100000 non-null  object \n",
      " 6   IsFraud          100000 non-null  int64  \n",
      "dtypes: float64(1), int64(3), object(3)\n",
      "memory usage: 5.3+ MB\n"
     ]
    },
    {
     "data": {
      "text/plain": [
       "(None,\n",
       "    TransactionID             TransactionDate   Amount  MerchantID  \\\n",
       " 0              1  2024-04-03 14:15:35.462794  4189.27         688   \n",
       " 1              2  2024-03-19 13:20:35.462824  2659.71         109   \n",
       " 2              3  2024-01-08 10:08:35.462834   784.00         394   \n",
       " 3              4  2024-04-13 23:50:35.462850  3514.40         944   \n",
       " 4              5  2024-07-12 18:51:35.462858   369.07         475   \n",
       " \n",
       "   TransactionType      Location  IsFraud  \n",
       " 0          refund   San Antonio        0  \n",
       " 1          refund        Dallas        0  \n",
       " 2        purchase      New York        0  \n",
       " 3        purchase  Philadelphia        0  \n",
       " 4        purchase       Phoenix        0  ,\n",
       "        TransactionID         Amount     MerchantID        IsFraud\n",
       " count  100000.000000  100000.000000  100000.000000  100000.000000\n",
       " mean    50000.500000    2497.092666     501.676070       0.010000\n",
       " std     28867.657797    1442.415999     288.715868       0.099499\n",
       " min         1.000000       1.050000       1.000000       0.000000\n",
       " 25%     25000.750000    1247.955000     252.000000       0.000000\n",
       " 50%     50000.500000    2496.500000     503.000000       0.000000\n",
       " 75%     75000.250000    3743.592500     753.000000       0.000000\n",
       " max    100000.000000    4999.770000    1000.000000       1.000000)"
      ]
     },
     "execution_count": 5,
     "metadata": {},
     "output_type": "execute_result"
    }
   ],
   "source": [
    "# Display basic info and first few rows\n",
    "df_info = data.info()\n",
    "df_head = data.head()\n",
    "\n",
    "df_info, df_head, data.describe()\n"
   ]
  },
  {
   "cell_type": "markdown",
   "metadata": {},
   "source": [
    "**Missing Values:**  No missing values in any column.\n",
    "\n",
    "**Numerical Data Summary:**\n",
    "\n",
    "Transaction Amount:\n",
    "\n",
    "`Mean`: $2,497.09\n",
    "\n",
    "`Min`: $1.05, Max: $4,999.77\n",
    "- Distribution seems fairly spread out.\n",
    "\n",
    "`IsFraud`:\n",
    "- Only 1% of transactions are fraud (high class imbalance).\n",
    "\n",
    "**Categorical Data Summary:**\n",
    "\n",
    "TransactionType: Only 2 categories (purchase, refund).\n",
    "\n",
    "Location: 10 unique locations, with Chicago being the most common."
   ]
  },
  {
   "cell_type": "code",
   "execution_count": null,
   "metadata": {},
   "outputs": [],
   "source": []
  }
 ],
 "metadata": {
  "kernelspec": {
   "display_name": "Python 3",
   "language": "python",
   "name": "python3"
  },
  "language_info": {
   "codemirror_mode": {
    "name": "ipython",
    "version": 3
   },
   "file_extension": ".py",
   "mimetype": "text/x-python",
   "name": "python",
   "nbconvert_exporter": "python",
   "pygments_lexer": "ipython3",
   "version": "3.13.2"
  }
 },
 "nbformat": 4,
 "nbformat_minor": 2
}
