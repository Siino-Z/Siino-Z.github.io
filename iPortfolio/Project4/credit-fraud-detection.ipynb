{
 "cells": [
  {
   "cell_type": "markdown",
   "metadata": {},
   "source": [
    "### **Credit Card Fraud Detection Using Machine Learning**"
   ]
  },
  {
   "cell_type": "markdown",
   "metadata": {},
   "source": [
    "Credit card fraud is a significant issue in financial security, and machine learning models can help detect fraudulent transactions. This project aims to build and evaluate multiple models to classify fraudulent and non-fraudulent transactions using a dataset from Kaggle.\n",
    "\n",
    "\n"
   ]
  },
  {
   "cell_type": "markdown",
   "metadata": {},
   "source": [
    "#### Dataset Overview\n",
    "- **Total Entries**: 100,000 transactions\n",
    "- **Columns**:\n",
    "  - `TransactionID` (int): Unique identifier for each transaction\n",
    "  - `TransactionDate` (object): Timestamp of the transaction\n",
    "  - `Amount` (float): Transaction amount\n",
    "  - `MerchantID` (int): ID of the merchant\n",
    "  - `TransactionType` (object): Type of transaction (e.g., purchase, refund)\n",
    "  - `Location` (object): Location where the transaction occurred\n",
    "  - `IsFraud` (int): **Target variable** (0 = legitimate, 1 = fraud)\n",
    "\n",
    "let's proceed! 🚀"
   ]
  },
  {
   "cell_type": "markdown",
   "metadata": {},
   "source": [
    " #### Project Workflow\n",
    "\n",
    " 1. Data Preprocessing\n",
    " 2. Exploratory Data Analysis (EDA)\n",
    " 3. Handling Class Imbalance\n",
    " 4. Feature Scaling and Transformation\n",
    " 5. Model Training & Evaluation\n",
    " 6. Hyperparameter Tuning\n",
    " 7. Conclusion & Future Improvements"
   ]
  },
  {
   "cell_type": "markdown",
   "metadata": {},
   "source": [
    "#### 1. Data Loading and Preprocessing\n",
    "\n",
    "1.1 Import Required Libraries\n",
    "\n",
    "\n"
   ]
  },
  {
   "cell_type": "code",
   "execution_count": null,
   "metadata": {},
   "outputs": [],
   "source": [
    "import pandas as pd\n",
    "import numpy as np\n",
    "import matplotlib.pyplot as plt\n",
    "import seaborn as sns\n",
    "import plotly.express as px\n",
    "from plotly.subplots import make_subplots\n",
    "import plotly.graph_objects as go\n",
    "from sklearn.model_selection import train_test_split\n",
    "from sklearn.preprocessing import StandardScaler\n",
    "from imblearn.over_sampling import SMOTE\n",
    "from sklearn.ensemble import RandomForestClassifier\n",
    "from sklearn.linear_model import LogisticRegression\n",
    "from xgboost import XGBClassifier\n",
    "from sklearn.metrics import classification_report, confusion_matrix, roc_auc_score\n",
    "import warnings\n",
    "import gc\n",
    "\n",
    "\n",
    "# Enable inline plotting for Jupyter notebooks\n",
    "%matplotlib inline\n",
    "\n",
    "# Set the style for matplotlib plots\n",
    "sns.set_palette(\"viridis\")\n",
    "\n",
    "warnings.filterwarnings('ignore')\n",
    "\n",
    "gc.enable()  # Enable garbage collection"
   ]
  },
  {
   "cell_type": "markdown",
   "metadata": {},
   "source": [
    "1.2 Load Dataset"
   ]
  },
  {
   "cell_type": "code",
   "execution_count": null,
   "metadata": {},
   "outputs": [],
   "source": [
    "# Load the dataset\n",
    "df = pd.read_csv('credit_card_fraud_dataset.csv')\n",
    "print(\"Dataset loaded successfully!\")\n",
    "print(\"Shape of dataset:\", df.shape)\n",
    "\n"
   ]
  },
  {
   "cell_type": "markdown",
   "metadata": {},
   "source": [
    "1.3 Check for Missing Values"
   ]
  },
  {
   "cell_type": "code",
   "execution_count": null,
   "metadata": {},
   "outputs": [],
   "source": [
    "print(df.isnull().sum().sum())  # No missing values expected\n",
    "\n",
    "# Display basic info and first few rows\n",
    "df_info = df.info()\n",
    "df_head = df.head()\n",
    "\n",
    "\n"
   ]
  },
  {
   "cell_type": "markdown",
   "metadata": {},
   "source": [
    "1.4 Data Cleaning and Feature Engineering"
   ]
  },
  {
   "cell_type": "code",
   "execution_count": null,
   "metadata": {},
   "outputs": [],
   "source": [
    "# Convert 'TransactionDate' to datetime\n",
    "df['TransactionDate'] = pd.to_datetime(df['TransactionDate'], errors='coerce')\n",
    "\n",
    "# Check for any missing or null values\n",
    "print(\"Missing values in each column:\")\n",
    "print(df.isnull().sum())\n",
    "\n",
    "# Extract date and time features from TransactionDate\n",
    "df['Hour'] = df['TransactionDate'].dt.hour\n",
    "df['Day'] = df['TransactionDate'].dt.day\n",
    "df['Month'] = df['TransactionDate'].dt.month\n",
    "\n",
    "# Encode categorical variables ('TransactionType' and 'Location')\n",
    "from sklearn.preprocessing import LabelEncoder\n",
    "le = LabelEncoder()\n",
    "\n",
    "df['TransactionType'] = le.fit_transform(df['TransactionType'])\n",
    "df['Location'] = le.fit_transform(df['Location'])\n",
    "\n",
    "# Drop TransactionID and TransactionDate after extracting necessary features\n",
    "df.drop(['TransactionID', 'TransactionDate'], axis=1, inplace=True)\n",
    "\n",
    "# Verify the transformed DataFrame\n",
    "print(\"DataFrame after preprocessing:\")\n",
    "display(df.head())\n"
   ]
  },
  {
   "cell_type": "markdown",
   "metadata": {},
   "source": [
    "#### 2. Exploratory Data Analysis (EDA)"
   ]
  },
  {
   "cell_type": "markdown",
   "metadata": {},
   "source": [
    "2.1 Check for Class Imbalance"
   ]
  },
  {
   "cell_type": "code",
   "execution_count": null,
   "metadata": {},
   "outputs": [],
   "source": [
    "sns.countplot(x=df[\"Class\"])\n",
    "plt.title(\"Class Distribution\")\n",
    "plt.show()\n",
    "\n",
    "fraud_percentage = df[\"Class\"].mean() * 100\n",
    "print(f\"Fraud Percentage: {fraud_percentage:.4f}%\")\n"
   ]
  },
  {
   "cell_type": "markdown",
   "metadata": {},
   "source": [
    "2.2 Descriptive Statistics and Distributions"
   ]
  },
  {
   "cell_type": "code",
   "execution_count": null,
   "metadata": {},
   "outputs": [],
   "source": [
    "# Descriptive statistics of the dataset\n",
    "print(\"Descriptive statistics:\")\n",
    "display(df.describe())\n",
    "\n",
    "# Visualizing the distribution of transaction amounts\n",
    "plt.figure(figsize=(8, 6))\n",
    "sns.histplot(df['Amount'], bins=50, kde=True)\n",
    "plt.title('Transaction Amount Distribution')\n",
    "plt.xlabel('Amount')\n",
    "plt.ylabel('Frequency')\n",
    "plt.show()"
   ]
  },
  {
   "cell_type": "markdown",
   "metadata": {},
   "source": [
    "2.3 Correlation Analysis"
   ]
  },
  {
   "cell_type": "code",
   "execution_count": null,
   "metadata": {},
   "outputs": [],
   "source": [
    "# Plot correlation matrix\n",
    "plt.figure(figsize=(10, 8))\n",
    "sns.heatmap(df.corr(), annot=True, cmap='coolwarm')\n",
    "plt.title('Correlation Matrix')\n",
    "plt.show()\n"
   ]
  },
  {
   "cell_type": "markdown",
   "metadata": {},
   "source": [
    "2.4 Fraud Distribution and Categorical Analysis"
   ]
  },
  {
   "cell_type": "code",
   "execution_count": null,
   "metadata": {},
   "outputs": [],
   "source": [
    "# Fraud distribution\n",
    "plt.figure(figsize=(6, 4))\n",
    "sns.countplot(x='IsFraud', data=df)\n",
    "plt.title('Fraudulent vs Non-Fraudulent Transactions')\n",
    "plt.xlabel('Is Fraud')\n",
    "plt.ylabel('Count')\n",
    "plt.show()\n",
    "\n",
    "# Transaction Type vs Fraud\n",
    "plt.figure(figsize=(6, 4))\n",
    "sns.countplot(x='TransactionType', hue='IsFraud', data=df)\n",
    "plt.title('Transaction Type and Fraud Occurrence')\n",
    "plt.xlabel('Transaction Type (Encoded)')\n",
    "plt.ylabel('Count')\n",
    "plt.show()\n",
    "\n",
    "# Location vs Fraud (sampled for readability if many unique values)\n",
    "plt.figure(figsize=(12, 6))\n",
    "sns.countplot(x='Location', hue='IsFraud', data=df)\n",
    "plt.title('Location and Fraud Occurrence')\n",
    "plt.xlabel('Location (Encoded)')\n",
    "plt.ylabel('Count')\n",
    "plt.xticks(rotation=90)\n",
    "plt.show()\n"
   ]
  }
 ],
 "metadata": {
  "kernelspec": {
   "display_name": "Python 3",
   "language": "python",
   "name": "python3"
  },
  "language_info": {
   "codemirror_mode": {
    "name": "ipython",
    "version": 3
   },
   "file_extension": ".py",
   "mimetype": "text/x-python",
   "name": "python",
   "nbconvert_exporter": "python",
   "pygments_lexer": "ipython3",
   "version": "3.13.2"
  }
 },
 "nbformat": 4,
 "nbformat_minor": 2
}
